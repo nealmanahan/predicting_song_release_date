{
 "cells": [
  {
   "cell_type": "markdown",
   "metadata": {},
   "source": [
    "# Exploratory Data Analysis and Modeling\n",
    "\n",
    "## Problem Statement\n",
    "When is the best time to release a new song/album on Spotify?\n",
    "As a major label artist, planning and preparing a successful release goes further than finding a great single or recording a critically acclaimed album. A strategic rollout is essential to standing out and cutting through noise in this highly competitive industry. The target of this project is to pinpoint an effective time to release new music.\n",
    "\n",
    "In order to achieve this, I decided to gather data from the largest music streaming service, Spotify, along with chart data from the industry publication Billboard to analyze the songs that see the most success while on the best selling/most listened to charts.\n",
    "\n",
    "This notebook goes through the EDA steps I took to analyze the data as well as the model used to predict when a song was released on Spotify. I chose to use a Random Forest Classifier to determine the season (also referred to as a quarter) based on the interpretability of feature importance and the tendency of the model to reduce overfitting, which I am anticipating to be an issue based on data quality due to previous setbacks (lack of access to Nielson Soundscan data). "
   ]
  },
  {
   "cell_type": "code",
   "execution_count": 134,
   "metadata": {},
   "outputs": [],
   "source": [
    "# Importing packages. Using both a randomized search and gridsearch since I am unsure what parameters to tune.\n",
    "\n",
    "import pandas as pd\n",
    "import numpy as np\n",
    "\n",
    "import matplotlib.pyplot as plt\n",
    "import seaborn as sns\n",
    "plt.style.use('seaborn-darkgrid')\n",
    "%matplotlib inline\n",
    "\n",
    "from pprint import pprint\n",
    "\n",
    "from sklearn.feature_extraction.text import CountVectorizer\n",
    "from sklearn.preprocessing import StandardScaler\n",
    "from sklearn.ensemble import RandomForestClassifier\n",
    "from sklearn.model_selection import train_test_split, GridSearchCV, RandomizedSearchCV\n",
    "from sklearn.metrics import accuracy_score, confusion_matrix, classification_report"
   ]
  },
  {
   "cell_type": "code",
   "execution_count": 135,
   "metadata": {
    "scrolled": false
   },
   "outputs": [
    {
     "data": {
      "text/html": [
       "<div>\n",
       "<style scoped>\n",
       "    .dataframe tbody tr th:only-of-type {\n",
       "        vertical-align: middle;\n",
       "    }\n",
       "\n",
       "    .dataframe tbody tr th {\n",
       "        vertical-align: top;\n",
       "    }\n",
       "\n",
       "    .dataframe thead th {\n",
       "        text-align: right;\n",
       "    }\n",
       "</style>\n",
       "<table border=\"1\" class=\"dataframe\">\n",
       "  <thead>\n",
       "    <tr style=\"text-align: right;\">\n",
       "      <th></th>\n",
       "      <th>track_name</th>\n",
       "      <th>artist_name</th>\n",
       "      <th>released_on</th>\n",
       "      <th>streams</th>\n",
       "      <th>bb_hot_100_peak</th>\n",
       "      <th>sp_top_200_peak</th>\n",
       "      <th>genres</th>\n",
       "      <th>artist_popularity</th>\n",
       "      <th>artist_followers</th>\n",
       "      <th>month_released</th>\n",
       "    </tr>\n",
       "  </thead>\n",
       "  <tbody>\n",
       "    <tr>\n",
       "      <th>0</th>\n",
       "      <td>...Ready For It?</td>\n",
       "      <td>Taylor Swift</td>\n",
       "      <td>2017-11-10</td>\n",
       "      <td>56087780</td>\n",
       "      <td>4</td>\n",
       "      <td>6</td>\n",
       "      <td>dance pop pop post-teen pop</td>\n",
       "      <td>92</td>\n",
       "      <td>19739479</td>\n",
       "      <td>11</td>\n",
       "    </tr>\n",
       "    <tr>\n",
       "      <th>1</th>\n",
       "      <td>1-800-273-8255</td>\n",
       "      <td>Logic</td>\n",
       "      <td>2017-05-05</td>\n",
       "      <td>316028795</td>\n",
       "      <td>3</td>\n",
       "      <td>1</td>\n",
       "      <td>conscious hip hop dmv rap hip hop pop rap rap</td>\n",
       "      <td>90</td>\n",
       "      <td>3630301</td>\n",
       "      <td>5</td>\n",
       "    </tr>\n",
       "    <tr>\n",
       "      <th>2</th>\n",
       "      <td>1.5</td>\n",
       "      <td>21 Savage</td>\n",
       "      <td>2018-12-21</td>\n",
       "      <td>8834772</td>\n",
       "      <td>86</td>\n",
       "      <td>52</td>\n",
       "      <td>atl hip hop rap trap music</td>\n",
       "      <td>90</td>\n",
       "      <td>6057541</td>\n",
       "      <td>12</td>\n",
       "    </tr>\n",
       "    <tr>\n",
       "      <th>3</th>\n",
       "      <td>10 Freaky Girls (with 21 Savage)</td>\n",
       "      <td>Metro Boomin</td>\n",
       "      <td>2018-11-06</td>\n",
       "      <td>68506670</td>\n",
       "      <td>42</td>\n",
       "      <td>11</td>\n",
       "      <td>hip hop pop pop rap rap southern hip hop trap ...</td>\n",
       "      <td>85</td>\n",
       "      <td>1259993</td>\n",
       "      <td>11</td>\n",
       "    </tr>\n",
       "    <tr>\n",
       "      <th>4</th>\n",
       "      <td>1400 / 999 Freestyle</td>\n",
       "      <td>Trippie Redd</td>\n",
       "      <td>2018-11-09</td>\n",
       "      <td>45818520</td>\n",
       "      <td>55</td>\n",
       "      <td>23</td>\n",
       "      <td>rap trap music</td>\n",
       "      <td>86</td>\n",
       "      <td>2947101</td>\n",
       "      <td>11</td>\n",
       "    </tr>\n",
       "  </tbody>\n",
       "</table>\n",
       "</div>"
      ],
      "text/plain": [
       "                         track_name   artist_name released_on    streams  \\\n",
       "0                  ...Ready For It?  Taylor Swift  2017-11-10   56087780   \n",
       "1                    1-800-273-8255         Logic  2017-05-05  316028795   \n",
       "2                               1.5     21 Savage  2018-12-21    8834772   \n",
       "3  10 Freaky Girls (with 21 Savage)  Metro Boomin  2018-11-06   68506670   \n",
       "4              1400 / 999 Freestyle  Trippie Redd  2018-11-09   45818520   \n",
       "\n",
       "   bb_hot_100_peak  sp_top_200_peak  \\\n",
       "0                4                6   \n",
       "1                3                1   \n",
       "2               86               52   \n",
       "3               42               11   \n",
       "4               55               23   \n",
       "\n",
       "                                              genres  artist_popularity  \\\n",
       "0                        dance pop pop post-teen pop                 92   \n",
       "1      conscious hip hop dmv rap hip hop pop rap rap                 90   \n",
       "2                         atl hip hop rap trap music                 90   \n",
       "3  hip hop pop pop rap rap southern hip hop trap ...                 85   \n",
       "4                                     rap trap music                 86   \n",
       "\n",
       "   artist_followers  month_released  \n",
       "0          19739479              11  \n",
       "1           3630301               5  \n",
       "2           6057541              12  \n",
       "3           1259993              11  \n",
       "4           2947101              11  "
      ]
     },
     "execution_count": 135,
     "metadata": {},
     "output_type": "execute_result"
    }
   ],
   "source": [
    "df = pd.read_csv('data/song_data.csv')\n",
    "df.head()"
   ]
  },
  {
   "cell_type": "code",
   "execution_count": 136,
   "metadata": {},
   "outputs": [],
   "source": [
    "# Ensuring NaNs have been dropped and resetting index. \n",
    "\n",
    "df.dropna(inplace=True)\n",
    "df.reset_index(drop=True, inplace=True)"
   ]
  },
  {
   "cell_type": "code",
   "execution_count": 137,
   "metadata": {},
   "outputs": [],
   "source": [
    "# Based on complexity, I decided to predict season/quarter instead of month of release. 12 classes may be challenging\n",
    "\n",
    "season = []\n",
    "for i in range(0, len(df)):\n",
    "    if df['month_released'][i] < 4:\n",
    "        season.append(1)\n",
    "    elif (df['month_released'][i] >= 4) & (df['month_released'][i] < 7):\n",
    "        season.append(2)\n",
    "    elif (df['month_released'][i] >= 7) & (df['month_released'][i] < 10):\n",
    "        season.append(3)\n",
    "    else:\n",
    "        season.append(4)"
   ]
  },
  {
   "cell_type": "code",
   "execution_count": 138,
   "metadata": {},
   "outputs": [],
   "source": [
    "df['season_released'] = season"
   ]
  },
  {
   "cell_type": "markdown",
   "metadata": {},
   "source": [
    "<br>\n",
    "I am using count vectorizer to transform qualitative 'genre' column for modeling. I am hypothesizing that genre may have and impact on release time frame and song performance. After collecting the top 10 features (words or 2 word phrases), I will one hot encode the genre categories for use in EDA and the model\n",
    "<br>\n",
    "<br>"
   ]
  },
  {
   "cell_type": "code",
   "execution_count": 139,
   "metadata": {},
   "outputs": [],
   "source": [
    "cvec = CountVectorizer(max_features=10, ngram_range=(1,2))\n",
    "cvec.fit(df['genres'])\n",
    "genre_transform = cvec.transform(df['genres'])\n",
    "\n",
    "genre = pd.DataFrame(genre_transform.toarray(), columns=cvec.get_feature_names())\n",
    "combined = pd.concat([df, genre], axis=1)"
   ]
  },
  {
   "cell_type": "code",
   "execution_count": 140,
   "metadata": {},
   "outputs": [],
   "source": [
    "one_hot_genre = []\n",
    "for i in range(0, len(combined)):\n",
    "    if (combined['pop'][i] >= 1) & (combined['hip'][i] == 0) & (combined['rap'][i] == 0):\n",
    "        one_hot_genre.append(1)\n",
    "    elif (combined['pop'][i] == 0) & (combined['hip'][i] >= 1) & (combined['rap'][i] >= 1):\n",
    "        one_hot_genre.append(2)\n",
    "    elif (combined['pop'][i] == 0) & (combined['hip'][i] == 0) & (combined['rap'][i] == 0):\n",
    "        one_hot_genre.append(3)\n",
    "    else:\n",
    "        one_hot_genre.append(0)\n",
    "        \n",
    "combined['genre_cat'] = one_hot_genre"
   ]
  },
  {
   "cell_type": "markdown",
   "metadata": {},
   "source": [
    "# EDA\n",
    "\n",
    "Unfortunately, there is not as much linearity in my data, which may become a problem. The below heatmaps show a lack of significant correlation between my prediction value and a marker of success in the industry, Billboard Hot 100 peak position.\n",
    "<br>\n",
    "<br>"
   ]
  },
  {
   "cell_type": "code",
   "execution_count": 8,
   "metadata": {
    "scrolled": false
   },
   "outputs": [
    {
     "data": {
      "image/png": "[encoded data removed]",
      "text/plain": [
       "<Figure size 576x720 with 2 Axes>"
      ]
     },
     "metadata": {
      "needs_background": "light"
     },
     "output_type": "display_data"
    }
   ],
   "source": [
    "corr = combined.corr()\n",
    "\n",
    "plt.figure(figsize=(8, 10))\n",
    "\n",
    "mask = np.zeros_like(combined.corr())\n",
    "mask[np.triu_indices_from(mask)] = True\n",
    "\n",
    "sns.heatmap(combined.corr()[['season_released']].sort_values('season_released', ascending=False),\n",
    "            annot=True, cmap='viridis');"
   ]
  },
  {
   "cell_type": "code",
   "execution_count": 9,
   "metadata": {},
   "outputs": [
    {
     "data": {
      "image/png": "[encoded data removed]",
      "text/plain": [
       "<Figure size 576x720 with 2 Axes>"
      ]
     },
     "metadata": {
      "needs_background": "light"
     },
     "output_type": "display_data"
    }
   ],
   "source": [
    "corr = combined.corr()\n",
    "\n",
    "plt.figure(figsize=(8, 10))\n",
    "\n",
    "mask = np.zeros_like(combined.corr())\n",
    "mask[np.triu_indices_from(mask)] = True\n",
    "\n",
    "sns.heatmap(combined.corr()[['bb_hot_100_peak']].sort_values('bb_hot_100_peak', ascending=False),\n",
    "            annot=True, cmap='viridis');"
   ]
  },
  {
   "cell_type": "markdown",
   "metadata": {},
   "source": [
    "<br>\n",
    "While the lack of correlation is troubling, EDA showed that songs released in Q2 (Late Spring) and Q4 (Winter/Holiday Season) spend time on the Billboard and Spotify Charts. A promising sign for advising when to release a song or album.\n",
    "<br>\n",
    "<br>"
   ]
  },
  {
   "cell_type": "code",
   "execution_count": 141,
   "metadata": {},
   "outputs": [
    {
     "data": {
      "image/png": "[encoded data removed]",
      "text/plain": [
       "<Figure size 1008x504 with 1 Axes>"
      ]
     },
     "metadata": {
      "needs_background": "light"
     },
     "output_type": "display_data"
    }
   ],
   "source": [
    "plt.figure(figsize=(14,7))\n",
    "\n",
    "plt.hist(combined['month_released'], rwidth = .5, bins=12)\n",
    "plt.xticks([1, 2, 3, 4, 5, 6, 7, 8, 9, 10, 11, 12],\n",
    "          ['January', 'February', 'March', 'April', 'May', 'June', 'July', 'August', 'September',\n",
    "            'October', 'November', 'December'], size=12)\n",
    "plt.title('Number of Songs Released by Month', size=18)\n",
    "plt.xlabel('Month', size=16)\n",
    "\n",
    "plt.ylabel('Number of Songs', size=16);"
   ]
  },
  {
   "cell_type": "code",
   "execution_count": 142,
   "metadata": {
    "scrolled": false
   },
   "outputs": [
    {
     "data": {
      "image/png": "[encoded data removed]",
      "text/plain": [
       "<Figure size 1008x504 with 1 Axes>"
      ]
     },
     "metadata": {
      "needs_background": "light"
     },
     "output_type": "display_data"
    }
   ],
   "source": [
    "plt.figure(figsize=(14,7))\n",
    "plt.hist(combined['season_released'], align='mid')\n",
    "plt.xticks([1, 2, 3, 4], ['Quarter 1', 'Quarter 2', 'Quarter 3', 'Quarter 4'], size=12)\n",
    "plt.title('Number of Songs Released by Quarter/Season', size=18)\n",
    "plt.xlabel('Season/Quarter', size=16)\n",
    "plt.ylabel('Number of Songs', size=16);"
   ]
  },
  {
   "cell_type": "markdown",
   "metadata": {},
   "source": [
    "<br>\n",
    "Songs released in April and June have substantially more plays than those any other month of the year.\n",
    "<br>\n",
    "<br>"
   ]
  },
  {
   "cell_type": "code",
   "execution_count": 148,
   "metadata": {
    "scrolled": false
   },
   "outputs": [
    {
     "data": {
      "image/png": "[encoded data removed]",
      "text/plain": [
       "<Figure size 1008x504 with 1 Axes>"
      ]
     },
     "metadata": {
      "needs_background": "light"
     },
     "output_type": "display_data"
    }
   ],
   "source": [
    "plt.figure(figsize=(14,7))\n",
    "plt.plot(combined['streams'].groupby(combined['month_released']).sum())\n",
    "plt.xticks([1, 2, 3, 4, 5, 6, 7, 8, 9, 10, 11, 12],\n",
    "           ['January', 'February', 'March', 'April', 'May', 'June', 'July', 'August', 'September',\n",
    "            'October', 'November', 'December'], size=12) \n",
    "plt.yticks([2_000_000_000, 3_000_000_000, 4_000_000_000, 5_000_000_000, 6_000_000_000, 7_000_000_000, 8_000_000_000],\n",
    "           ['2 Billion', '3 Billion', '4 Billion', '5 Billion', '6 Billion', '7 Billion', '8 Billion'], size=12)\n",
    "plt.xlabel('Release Month Of Song', size=16)\n",
    "plt.ylabel('Total Streams', size=16);"
   ]
  },
  {
   "cell_type": "code",
   "execution_count": 150,
   "metadata": {},
   "outputs": [],
   "source": [
    "sp_100_scaled = combined[combined['sp_top_200_peak'] <= 100]"
   ]
  },
  {
   "cell_type": "code",
   "execution_count": 151,
   "metadata": {
    "scrolled": false
   },
   "outputs": [
    {
     "data": {
      "image/png": "[encoded data removed]",
      "text/plain": [
       "<Figure size 720x720 with 1 Axes>"
      ]
     },
     "metadata": {
      "needs_background": "light"
     },
     "output_type": "display_data"
    }
   ],
   "source": [
    "plt.figure(figsize=(10,10))\n",
    "sns.boxplot(x='genre_cat', y='bb_hot_100_peak', data=sp_100_scaled)\n",
    "#plt.xticks([0, 1, 2, 3], ['Pop Rap', 'Pop', 'Hip-hip/Rap', 'Other'], size=12)\n",
    "plt.yticks([0, 20, 40, 60, 80, 100], size=18)\n",
    "plt.xticks([0, 1, 2, 3], ['Pop Rap', 'Pop', 'Hip-hip/Rap', 'Other'])\n",
    "plt.xlabel('Genre', size=16)\n",
    "plt.ylabel('Billboard Hot 100 Peak Position', size=16);"
   ]
  },
  {
   "cell_type": "code",
   "execution_count": 155,
   "metadata": {
    "scrolled": false
   },
   "outputs": [
    {
     "data": {
      "image/png": "[encoded data removed]",
      "text/plain": [
       "<Figure size 720x720 with 1 Axes>"
      ]
     },
     "metadata": {
      "needs_background": "light"
     },
     "output_type": "display_data"
    }
   ],
   "source": [
    "plt.figure(figsize=(10,10))\n",
    "sns.boxplot(x='genre_cat', y='sp_top_200_peak', data=sp_100_scaled)\n",
    "plt.yticks([0, 20, 40, 60, 80, 100], size=18)\n",
    "plt.xticks([0, 1, 2, 3], ['Pop Rap', 'Pop', 'Hip-hip/Rap', 'Other'])\n",
    "plt.xlabel('Genre', size=18)\n",
    "plt.ylabel('Spotify US Top 200 Peak Position Below 100', size =18);"
   ]
  },
  {
   "cell_type": "code",
   "execution_count": 159,
   "metadata": {},
   "outputs": [
    {
     "data": {
      "image/png": "[encoded data removed]",
      "text/plain": [
       "<Figure size 1008x504 with 1 Axes>"
      ]
     },
     "metadata": {
      "needs_background": "light"
     },
     "output_type": "display_data"
    }
   ],
   "source": [
    "plt.figure(figsize=(14,7))\n",
    "\n",
    "plt.plot(combined['artist_followers'].groupby(combined['month_released']).mean())\n",
    "plt.title('Average Artist Follow Count per Song Release', size=18)\n",
    "plt.ylabel('Number of Followers (in millions)', size=16)\n",
    "plt.xticks([1, 2, 3, 4, 5, 6, 7, 8, 9, 10, 11, 12],\n",
    "           ['January', 'February', 'March', 'April', 'May', 'June', 'July', 'August', 'September',\n",
    "            'October', 'November', 'December'], size=12) \n",
    "plt.yticks([3_000_000, 4_000_000, 5_000_000, 6_000_000, 7_000_000, 8_000_000, 9_000_000, 10_000_000,\n",
    "            11_000_000, 12_000_000, 13_000_000, 14_000_000], [3, 4, 5, 6, 7, 8, 9, 10, 11, 12, 13, 14], size=12);"
   ]
  },
  {
   "cell_type": "markdown",
   "metadata": {},
   "source": [
    "<br>\n",
    "Based on my hypothesis of genre factoring into release date, I wanted to explore the most popular artists based on genre, measured by their popularity measure on Spotify. Artists with roots in the hip-hop and rap genres have the highest popularity currently, and those with crossover into pop are the most popular based on this data.\n",
    "<br>\n",
    "<br>"
   ]
  },
  {
   "cell_type": "code",
   "execution_count": 15,
   "metadata": {},
   "outputs": [
    {
     "data": {
      "text/html": [
       "<div>\n",
       "<style scoped>\n",
       "    .dataframe tbody tr th:only-of-type {\n",
       "        vertical-align: middle;\n",
       "    }\n",
       "\n",
       "    .dataframe tbody tr th {\n",
       "        vertical-align: top;\n",
       "    }\n",
       "\n",
       "    .dataframe thead th {\n",
       "        text-align: right;\n",
       "    }\n",
       "</style>\n",
       "<table border=\"1\" class=\"dataframe\">\n",
       "  <thead>\n",
       "    <tr style=\"text-align: right;\">\n",
       "      <th></th>\n",
       "      <th>streams</th>\n",
       "      <th>bb_hot_100_peak</th>\n",
       "      <th>sp_top_200_peak</th>\n",
       "      <th>artist_popularity</th>\n",
       "      <th>artist_followers</th>\n",
       "      <th>month_released</th>\n",
       "      <th>season_released</th>\n",
       "      <th>hip</th>\n",
       "      <th>hip hop</th>\n",
       "      <th>hop</th>\n",
       "      <th>music</th>\n",
       "      <th>pop</th>\n",
       "      <th>pop pop</th>\n",
       "      <th>pop rap</th>\n",
       "      <th>rap</th>\n",
       "      <th>rap rap</th>\n",
       "      <th>trap</th>\n",
       "      <th>genre_cat</th>\n",
       "    </tr>\n",
       "  </thead>\n",
       "  <tbody>\n",
       "    <tr>\n",
       "      <th>count</th>\n",
       "      <td>3.990000e+02</td>\n",
       "      <td>399.000000</td>\n",
       "      <td>399.000000</td>\n",
       "      <td>399.000000</td>\n",
       "      <td>3.990000e+02</td>\n",
       "      <td>399.000000</td>\n",
       "      <td>399.000000</td>\n",
       "      <td>399.0</td>\n",
       "      <td>399.0</td>\n",
       "      <td>399.000000</td>\n",
       "      <td>399.000000</td>\n",
       "      <td>399.000000</td>\n",
       "      <td>399.000000</td>\n",
       "      <td>399.0</td>\n",
       "      <td>399.0</td>\n",
       "      <td>399.0</td>\n",
       "      <td>399.000000</td>\n",
       "      <td>399.0</td>\n",
       "    </tr>\n",
       "    <tr>\n",
       "      <th>mean</th>\n",
       "      <td>4.254882e+07</td>\n",
       "      <td>47.779449</td>\n",
       "      <td>67.042607</td>\n",
       "      <td>84.546366</td>\n",
       "      <td>8.170387e+06</td>\n",
       "      <td>6.177945</td>\n",
       "      <td>2.441103</td>\n",
       "      <td>0.0</td>\n",
       "      <td>0.0</td>\n",
       "      <td>0.002506</td>\n",
       "      <td>0.002506</td>\n",
       "      <td>2.220551</td>\n",
       "      <td>0.343358</td>\n",
       "      <td>0.0</td>\n",
       "      <td>0.0</td>\n",
       "      <td>0.0</td>\n",
       "      <td>0.015038</td>\n",
       "      <td>1.0</td>\n",
       "    </tr>\n",
       "    <tr>\n",
       "      <th>std</th>\n",
       "      <td>5.980833e+07</td>\n",
       "      <td>30.567274</td>\n",
       "      <td>55.307279</td>\n",
       "      <td>8.711872</td>\n",
       "      <td>8.914286e+06</td>\n",
       "      <td>3.474373</td>\n",
       "      <td>1.150012</td>\n",
       "      <td>0.0</td>\n",
       "      <td>0.0</td>\n",
       "      <td>0.050063</td>\n",
       "      <td>0.050063</td>\n",
       "      <td>1.182570</td>\n",
       "      <td>0.475426</td>\n",
       "      <td>0.0</td>\n",
       "      <td>0.0</td>\n",
       "      <td>0.0</td>\n",
       "      <td>0.121855</td>\n",
       "      <td>0.0</td>\n",
       "    </tr>\n",
       "    <tr>\n",
       "      <th>min</th>\n",
       "      <td>1.024988e+06</td>\n",
       "      <td>1.000000</td>\n",
       "      <td>1.000000</td>\n",
       "      <td>54.000000</td>\n",
       "      <td>2.688000e+03</td>\n",
       "      <td>1.000000</td>\n",
       "      <td>1.000000</td>\n",
       "      <td>0.0</td>\n",
       "      <td>0.0</td>\n",
       "      <td>0.000000</td>\n",
       "      <td>0.000000</td>\n",
       "      <td>1.000000</td>\n",
       "      <td>0.000000</td>\n",
       "      <td>0.0</td>\n",
       "      <td>0.0</td>\n",
       "      <td>0.0</td>\n",
       "      <td>0.000000</td>\n",
       "      <td>1.0</td>\n",
       "    </tr>\n",
       "    <tr>\n",
       "      <th>25%</th>\n",
       "      <td>5.282139e+06</td>\n",
       "      <td>21.000000</td>\n",
       "      <td>19.500000</td>\n",
       "      <td>80.000000</td>\n",
       "      <td>1.723295e+06</td>\n",
       "      <td>3.000000</td>\n",
       "      <td>1.000000</td>\n",
       "      <td>0.0</td>\n",
       "      <td>0.0</td>\n",
       "      <td>0.000000</td>\n",
       "      <td>0.000000</td>\n",
       "      <td>1.000000</td>\n",
       "      <td>0.000000</td>\n",
       "      <td>0.0</td>\n",
       "      <td>0.0</td>\n",
       "      <td>0.0</td>\n",
       "      <td>0.000000</td>\n",
       "      <td>1.0</td>\n",
       "    </tr>\n",
       "    <tr>\n",
       "      <th>50%</th>\n",
       "      <td>1.755603e+07</td>\n",
       "      <td>44.000000</td>\n",
       "      <td>52.000000</td>\n",
       "      <td>85.000000</td>\n",
       "      <td>6.112029e+06</td>\n",
       "      <td>6.000000</td>\n",
       "      <td>2.000000</td>\n",
       "      <td>0.0</td>\n",
       "      <td>0.0</td>\n",
       "      <td>0.000000</td>\n",
       "      <td>0.000000</td>\n",
       "      <td>2.000000</td>\n",
       "      <td>0.000000</td>\n",
       "      <td>0.0</td>\n",
       "      <td>0.0</td>\n",
       "      <td>0.0</td>\n",
       "      <td>0.000000</td>\n",
       "      <td>1.0</td>\n",
       "    </tr>\n",
       "    <tr>\n",
       "      <th>75%</th>\n",
       "      <td>5.192699e+07</td>\n",
       "      <td>75.000000</td>\n",
       "      <td>103.000000</td>\n",
       "      <td>90.000000</td>\n",
       "      <td>1.182745e+07</td>\n",
       "      <td>10.000000</td>\n",
       "      <td>4.000000</td>\n",
       "      <td>0.0</td>\n",
       "      <td>0.0</td>\n",
       "      <td>0.000000</td>\n",
       "      <td>0.000000</td>\n",
       "      <td>3.000000</td>\n",
       "      <td>1.000000</td>\n",
       "      <td>0.0</td>\n",
       "      <td>0.0</td>\n",
       "      <td>0.0</td>\n",
       "      <td>0.000000</td>\n",
       "      <td>1.0</td>\n",
       "    </tr>\n",
       "    <tr>\n",
       "      <th>max</th>\n",
       "      <td>3.642045e+08</td>\n",
       "      <td>100.000000</td>\n",
       "      <td>196.000000</td>\n",
       "      <td>100.000000</td>\n",
       "      <td>4.387636e+07</td>\n",
       "      <td>12.000000</td>\n",
       "      <td>4.000000</td>\n",
       "      <td>0.0</td>\n",
       "      <td>0.0</td>\n",
       "      <td>1.000000</td>\n",
       "      <td>1.000000</td>\n",
       "      <td>5.000000</td>\n",
       "      <td>1.000000</td>\n",
       "      <td>0.0</td>\n",
       "      <td>0.0</td>\n",
       "      <td>0.0</td>\n",
       "      <td>1.000000</td>\n",
       "      <td>1.0</td>\n",
       "    </tr>\n",
       "  </tbody>\n",
       "</table>\n",
       "</div>"
      ],
      "text/plain": [
       "            streams  bb_hot_100_peak  sp_top_200_peak  artist_popularity  \\\n",
       "count  3.990000e+02       399.000000       399.000000         399.000000   \n",
       "mean   4.254882e+07        47.779449        67.042607          84.546366   \n",
       "std    5.980833e+07        30.567274        55.307279           8.711872   \n",
       "min    1.024988e+06         1.000000         1.000000          54.000000   \n",
       "25%    5.282139e+06        21.000000        19.500000          80.000000   \n",
       "50%    1.755603e+07        44.000000        52.000000          85.000000   \n",
       "75%    5.192699e+07        75.000000       103.000000          90.000000   \n",
       "max    3.642045e+08       100.000000       196.000000         100.000000   \n",
       "\n",
       "       artist_followers  month_released  season_released    hip  hip hop  \\\n",
       "count      3.990000e+02      399.000000       399.000000  399.0    399.0   \n",
       "mean       8.170387e+06        6.177945         2.441103    0.0      0.0   \n",
       "std        8.914286e+06        3.474373         1.150012    0.0      0.0   \n",
       "min        2.688000e+03        1.000000         1.000000    0.0      0.0   \n",
       "25%        1.723295e+06        3.000000         1.000000    0.0      0.0   \n",
       "50%        6.112029e+06        6.000000         2.000000    0.0      0.0   \n",
       "75%        1.182745e+07       10.000000         4.000000    0.0      0.0   \n",
       "max        4.387636e+07       12.000000         4.000000    0.0      0.0   \n",
       "\n",
       "              hop       music         pop     pop pop  pop rap    rap  \\\n",
       "count  399.000000  399.000000  399.000000  399.000000    399.0  399.0   \n",
       "mean     0.002506    0.002506    2.220551    0.343358      0.0    0.0   \n",
       "std      0.050063    0.050063    1.182570    0.475426      0.0    0.0   \n",
       "min      0.000000    0.000000    1.000000    0.000000      0.0    0.0   \n",
       "25%      0.000000    0.000000    1.000000    0.000000      0.0    0.0   \n",
       "50%      0.000000    0.000000    2.000000    0.000000      0.0    0.0   \n",
       "75%      0.000000    0.000000    3.000000    1.000000      0.0    0.0   \n",
       "max      1.000000    1.000000    5.000000    1.000000      0.0    0.0   \n",
       "\n",
       "       rap rap        trap  genre_cat  \n",
       "count    399.0  399.000000      399.0  \n",
       "mean       0.0    0.015038        1.0  \n",
       "std        0.0    0.121855        0.0  \n",
       "min        0.0    0.000000        1.0  \n",
       "25%        0.0    0.000000        1.0  \n",
       "50%        0.0    0.000000        1.0  \n",
       "75%        0.0    0.000000        1.0  \n",
       "max        0.0    1.000000        1.0  "
      ]
     },
     "execution_count": 15,
     "metadata": {},
     "output_type": "execute_result"
    }
   ],
   "source": [
    "combined[combined['genre_cat'] == 1].describe()"
   ]
  },
  {
   "cell_type": "code",
   "execution_count": 723,
   "metadata": {
    "scrolled": false
   },
   "outputs": [
    {
     "data": {
      "image/png": "[encoded data removed]",
      "text/plain": [
       "<Figure size 1008x504 with 1 Axes>"
      ]
     },
     "metadata": {
      "needs_background": "light"
     },
     "output_type": "display_data"
    }
   ],
   "source": [
    "plt.figure(figsize=(14,7))\n",
    "plt.hist(combined[combined['genre_cat'] == 1]['artist_popularity'], align='mid')\n",
    "plt.xticks([0, 10, 20, 30, 40, 50, 60, 70, 80, 100, 110, 120], ['', '', 20, '', 40, '', 60, '', 80, '', 100, '', ''],\n",
    "           size=12)\n",
    "plt.axvline(combined[combined['genre_cat'] == 1]['artist_popularity'].mean(), \n",
    "            color='k', linestyle='dashed', linewidth=1)\n",
    "plt.title('Pop Artist Popularity', size=20)\n",
    "plt.xlabel('Artist Popularity', size=16)\n",
    "plt.ylabel('Number of Songs', size=16);"
   ]
  },
  {
   "cell_type": "code",
   "execution_count": 16,
   "metadata": {},
   "outputs": [
    {
     "data": {
      "text/html": [
       "<div>\n",
       "<style scoped>\n",
       "    .dataframe tbody tr th:only-of-type {\n",
       "        vertical-align: middle;\n",
       "    }\n",
       "\n",
       "    .dataframe tbody tr th {\n",
       "        vertical-align: top;\n",
       "    }\n",
       "\n",
       "    .dataframe thead th {\n",
       "        text-align: right;\n",
       "    }\n",
       "</style>\n",
       "<table border=\"1\" class=\"dataframe\">\n",
       "  <thead>\n",
       "    <tr style=\"text-align: right;\">\n",
       "      <th></th>\n",
       "      <th>streams</th>\n",
       "      <th>bb_hot_100_peak</th>\n",
       "      <th>sp_top_200_peak</th>\n",
       "      <th>artist_popularity</th>\n",
       "      <th>artist_followers</th>\n",
       "      <th>month_released</th>\n",
       "      <th>season_released</th>\n",
       "      <th>hip</th>\n",
       "      <th>hip hop</th>\n",
       "      <th>hop</th>\n",
       "      <th>music</th>\n",
       "      <th>pop</th>\n",
       "      <th>pop pop</th>\n",
       "      <th>pop rap</th>\n",
       "      <th>rap</th>\n",
       "      <th>rap rap</th>\n",
       "      <th>trap</th>\n",
       "      <th>genre_cat</th>\n",
       "    </tr>\n",
       "  </thead>\n",
       "  <tbody>\n",
       "    <tr>\n",
       "      <th>count</th>\n",
       "      <td>1.140000e+02</td>\n",
       "      <td>114.000000</td>\n",
       "      <td>114.000000</td>\n",
       "      <td>114.00000</td>\n",
       "      <td>1.140000e+02</td>\n",
       "      <td>114.000000</td>\n",
       "      <td>114.000000</td>\n",
       "      <td>114.000000</td>\n",
       "      <td>114.000000</td>\n",
       "      <td>114.000000</td>\n",
       "      <td>114.000000</td>\n",
       "      <td>114.0</td>\n",
       "      <td>114.0</td>\n",
       "      <td>114.0</td>\n",
       "      <td>114.000000</td>\n",
       "      <td>114.000000</td>\n",
       "      <td>114.000000</td>\n",
       "      <td>114.0</td>\n",
       "    </tr>\n",
       "    <tr>\n",
       "      <th>mean</th>\n",
       "      <td>5.624912e+07</td>\n",
       "      <td>48.684211</td>\n",
       "      <td>58.298246</td>\n",
       "      <td>87.95614</td>\n",
       "      <td>7.974553e+06</td>\n",
       "      <td>8.166667</td>\n",
       "      <td>3.052632</td>\n",
       "      <td>1.175439</td>\n",
       "      <td>1.175439</td>\n",
       "      <td>1.175439</td>\n",
       "      <td>0.561404</td>\n",
       "      <td>0.0</td>\n",
       "      <td>0.0</td>\n",
       "      <td>0.0</td>\n",
       "      <td>1.026316</td>\n",
       "      <td>0.026316</td>\n",
       "      <td>0.798246</td>\n",
       "      <td>2.0</td>\n",
       "    </tr>\n",
       "    <tr>\n",
       "      <th>std</th>\n",
       "      <td>8.134215e+07</td>\n",
       "      <td>28.760320</td>\n",
       "      <td>54.160680</td>\n",
       "      <td>6.65375</td>\n",
       "      <td>7.885015e+06</td>\n",
       "      <td>3.293643</td>\n",
       "      <td>1.143215</td>\n",
       "      <td>0.382021</td>\n",
       "      <td>0.382021</td>\n",
       "      <td>0.382021</td>\n",
       "      <td>0.498406</td>\n",
       "      <td>0.0</td>\n",
       "      <td>0.0</td>\n",
       "      <td>0.0</td>\n",
       "      <td>0.160779</td>\n",
       "      <td>0.160779</td>\n",
       "      <td>0.789083</td>\n",
       "      <td>0.0</td>\n",
       "    </tr>\n",
       "    <tr>\n",
       "      <th>min</th>\n",
       "      <td>1.219493e+06</td>\n",
       "      <td>2.000000</td>\n",
       "      <td>1.000000</td>\n",
       "      <td>59.00000</td>\n",
       "      <td>1.860600e+05</td>\n",
       "      <td>1.000000</td>\n",
       "      <td>1.000000</td>\n",
       "      <td>1.000000</td>\n",
       "      <td>1.000000</td>\n",
       "      <td>1.000000</td>\n",
       "      <td>0.000000</td>\n",
       "      <td>0.0</td>\n",
       "      <td>0.0</td>\n",
       "      <td>0.0</td>\n",
       "      <td>1.000000</td>\n",
       "      <td>0.000000</td>\n",
       "      <td>0.000000</td>\n",
       "      <td>2.0</td>\n",
       "    </tr>\n",
       "    <tr>\n",
       "      <th>25%</th>\n",
       "      <td>4.051890e+06</td>\n",
       "      <td>24.000000</td>\n",
       "      <td>15.250000</td>\n",
       "      <td>85.00000</td>\n",
       "      <td>2.073903e+06</td>\n",
       "      <td>5.500000</td>\n",
       "      <td>2.250000</td>\n",
       "      <td>1.000000</td>\n",
       "      <td>1.000000</td>\n",
       "      <td>1.000000</td>\n",
       "      <td>0.000000</td>\n",
       "      <td>0.0</td>\n",
       "      <td>0.0</td>\n",
       "      <td>0.0</td>\n",
       "      <td>1.000000</td>\n",
       "      <td>0.000000</td>\n",
       "      <td>0.000000</td>\n",
       "      <td>2.0</td>\n",
       "    </tr>\n",
       "    <tr>\n",
       "      <th>50%</th>\n",
       "      <td>1.720759e+07</td>\n",
       "      <td>45.000000</td>\n",
       "      <td>36.000000</td>\n",
       "      <td>88.00000</td>\n",
       "      <td>4.655966e+06</td>\n",
       "      <td>9.000000</td>\n",
       "      <td>3.000000</td>\n",
       "      <td>1.000000</td>\n",
       "      <td>1.000000</td>\n",
       "      <td>1.000000</td>\n",
       "      <td>1.000000</td>\n",
       "      <td>0.0</td>\n",
       "      <td>0.0</td>\n",
       "      <td>0.0</td>\n",
       "      <td>1.000000</td>\n",
       "      <td>0.000000</td>\n",
       "      <td>1.000000</td>\n",
       "      <td>2.0</td>\n",
       "    </tr>\n",
       "    <tr>\n",
       "      <th>75%</th>\n",
       "      <td>6.394013e+07</td>\n",
       "      <td>73.500000</td>\n",
       "      <td>93.750000</td>\n",
       "      <td>94.00000</td>\n",
       "      <td>1.274861e+07</td>\n",
       "      <td>11.000000</td>\n",
       "      <td>4.000000</td>\n",
       "      <td>1.000000</td>\n",
       "      <td>1.000000</td>\n",
       "      <td>1.000000</td>\n",
       "      <td>1.000000</td>\n",
       "      <td>0.0</td>\n",
       "      <td>0.0</td>\n",
       "      <td>0.0</td>\n",
       "      <td>1.000000</td>\n",
       "      <td>0.000000</td>\n",
       "      <td>1.000000</td>\n",
       "      <td>2.0</td>\n",
       "    </tr>\n",
       "    <tr>\n",
       "      <th>max</th>\n",
       "      <td>3.458775e+08</td>\n",
       "      <td>99.000000</td>\n",
       "      <td>192.000000</td>\n",
       "      <td>94.00000</td>\n",
       "      <td>2.656235e+07</td>\n",
       "      <td>12.000000</td>\n",
       "      <td>4.000000</td>\n",
       "      <td>2.000000</td>\n",
       "      <td>2.000000</td>\n",
       "      <td>2.000000</td>\n",
       "      <td>1.000000</td>\n",
       "      <td>0.0</td>\n",
       "      <td>0.0</td>\n",
       "      <td>0.0</td>\n",
       "      <td>2.000000</td>\n",
       "      <td>1.000000</td>\n",
       "      <td>2.000000</td>\n",
       "      <td>2.0</td>\n",
       "    </tr>\n",
       "  </tbody>\n",
       "</table>\n",
       "</div>"
      ],
      "text/plain": [
       "            streams  bb_hot_100_peak  sp_top_200_peak  artist_popularity  \\\n",
       "count  1.140000e+02       114.000000       114.000000          114.00000   \n",
       "mean   5.624912e+07        48.684211        58.298246           87.95614   \n",
       "std    8.134215e+07        28.760320        54.160680            6.65375   \n",
       "min    1.219493e+06         2.000000         1.000000           59.00000   \n",
       "25%    4.051890e+06        24.000000        15.250000           85.00000   \n",
       "50%    1.720759e+07        45.000000        36.000000           88.00000   \n",
       "75%    6.394013e+07        73.500000        93.750000           94.00000   \n",
       "max    3.458775e+08        99.000000       192.000000           94.00000   \n",
       "\n",
       "       artist_followers  month_released  season_released         hip  \\\n",
       "count      1.140000e+02      114.000000       114.000000  114.000000   \n",
       "mean       7.974553e+06        8.166667         3.052632    1.175439   \n",
       "std        7.885015e+06        3.293643         1.143215    0.382021   \n",
       "min        1.860600e+05        1.000000         1.000000    1.000000   \n",
       "25%        2.073903e+06        5.500000         2.250000    1.000000   \n",
       "50%        4.655966e+06        9.000000         3.000000    1.000000   \n",
       "75%        1.274861e+07       11.000000         4.000000    1.000000   \n",
       "max        2.656235e+07       12.000000         4.000000    2.000000   \n",
       "\n",
       "          hip hop         hop       music    pop  pop pop  pop rap  \\\n",
       "count  114.000000  114.000000  114.000000  114.0    114.0    114.0   \n",
       "mean     1.175439    1.175439    0.561404    0.0      0.0      0.0   \n",
       "std      0.382021    0.382021    0.498406    0.0      0.0      0.0   \n",
       "min      1.000000    1.000000    0.000000    0.0      0.0      0.0   \n",
       "25%      1.000000    1.000000    0.000000    0.0      0.0      0.0   \n",
       "50%      1.000000    1.000000    1.000000    0.0      0.0      0.0   \n",
       "75%      1.000000    1.000000    1.000000    0.0      0.0      0.0   \n",
       "max      2.000000    2.000000    1.000000    0.0      0.0      0.0   \n",
       "\n",
       "              rap     rap rap        trap  genre_cat  \n",
       "count  114.000000  114.000000  114.000000      114.0  \n",
       "mean     1.026316    0.026316    0.798246        2.0  \n",
       "std      0.160779    0.160779    0.789083        0.0  \n",
       "min      1.000000    0.000000    0.000000        2.0  \n",
       "25%      1.000000    0.000000    0.000000        2.0  \n",
       "50%      1.000000    0.000000    1.000000        2.0  \n",
       "75%      1.000000    0.000000    1.000000        2.0  \n",
       "max      2.000000    1.000000    2.000000        2.0  "
      ]
     },
     "execution_count": 16,
     "metadata": {},
     "output_type": "execute_result"
    }
   ],
   "source": [
    "combined[combined['genre_cat'] == 2].describe()"
   ]
  },
  {
   "cell_type": "code",
   "execution_count": 17,
   "metadata": {},
   "outputs": [
    {
     "data": {
      "image/png": "[encoded data removed]",
      "text/plain": [
       "<Figure size 1008x504 with 1 Axes>"
      ]
     },
     "metadata": {
      "needs_background": "light"
     },
     "output_type": "display_data"
    }
   ],
   "source": [
    "plt.figure(figsize=(14, 7))\n",
    "plt.hist(combined[combined['genre_cat'] == 2]['artist_popularity'])\n",
    "plt.xticks([0, 10, 20, 30, 40, 50, 60, 70, 80, 100, 110, 120], ['', '', 20, '', 40, '', 60, '', 80, '', 100, '', ''],\n",
    "            size=12)\n",
    "plt.axvline(combined[combined['genre_cat'] == 2]['artist_popularity'].mean(), \n",
    "            color='k', linestyle='dashed', linewidth=1)\n",
    "plt.title('Hip-hop/Rap Artist Popularity', size=20)\n",
    "plt.xlabel('Artist Popularity', size=16)\n",
    "plt.ylabel('Number of Songs', size=16);"
   ]
  },
  {
   "cell_type": "code",
   "execution_count": 18,
   "metadata": {},
   "outputs": [
    {
     "data": {
      "text/html": [
       "<div>\n",
       "<style scoped>\n",
       "    .dataframe tbody tr th:only-of-type {\n",
       "        vertical-align: middle;\n",
       "    }\n",
       "\n",
       "    .dataframe tbody tr th {\n",
       "        vertical-align: top;\n",
       "    }\n",
       "\n",
       "    .dataframe thead th {\n",
       "        text-align: right;\n",
       "    }\n",
       "</style>\n",
       "<table border=\"1\" class=\"dataframe\">\n",
       "  <thead>\n",
       "    <tr style=\"text-align: right;\">\n",
       "      <th></th>\n",
       "      <th>streams</th>\n",
       "      <th>bb_hot_100_peak</th>\n",
       "      <th>sp_top_200_peak</th>\n",
       "      <th>artist_popularity</th>\n",
       "      <th>artist_followers</th>\n",
       "      <th>month_released</th>\n",
       "      <th>season_released</th>\n",
       "      <th>hip</th>\n",
       "      <th>hip hop</th>\n",
       "      <th>hop</th>\n",
       "      <th>music</th>\n",
       "      <th>pop</th>\n",
       "      <th>pop pop</th>\n",
       "      <th>pop rap</th>\n",
       "      <th>rap</th>\n",
       "      <th>rap rap</th>\n",
       "      <th>trap</th>\n",
       "      <th>genre_cat</th>\n",
       "    </tr>\n",
       "  </thead>\n",
       "  <tbody>\n",
       "    <tr>\n",
       "      <th>count</th>\n",
       "      <td>1.270000e+02</td>\n",
       "      <td>127.000000</td>\n",
       "      <td>127.000000</td>\n",
       "      <td>127.000000</td>\n",
       "      <td>1.270000e+02</td>\n",
       "      <td>127.000000</td>\n",
       "      <td>127.000000</td>\n",
       "      <td>127.0</td>\n",
       "      <td>127.0</td>\n",
       "      <td>127.0</td>\n",
       "      <td>127.000000</td>\n",
       "      <td>127.0</td>\n",
       "      <td>127.0</td>\n",
       "      <td>127.0</td>\n",
       "      <td>127.0</td>\n",
       "      <td>127.0</td>\n",
       "      <td>127.000000</td>\n",
       "      <td>127.0</td>\n",
       "    </tr>\n",
       "    <tr>\n",
       "      <th>mean</th>\n",
       "      <td>3.441801e+07</td>\n",
       "      <td>45.566929</td>\n",
       "      <td>102.086614</td>\n",
       "      <td>76.881890</td>\n",
       "      <td>3.759192e+06</td>\n",
       "      <td>6.322835</td>\n",
       "      <td>2.409449</td>\n",
       "      <td>0.0</td>\n",
       "      <td>0.0</td>\n",
       "      <td>0.0</td>\n",
       "      <td>0.181102</td>\n",
       "      <td>0.0</td>\n",
       "      <td>0.0</td>\n",
       "      <td>0.0</td>\n",
       "      <td>0.0</td>\n",
       "      <td>0.0</td>\n",
       "      <td>0.244094</td>\n",
       "      <td>3.0</td>\n",
       "    </tr>\n",
       "    <tr>\n",
       "      <th>std</th>\n",
       "      <td>5.025488e+07</td>\n",
       "      <td>24.676507</td>\n",
       "      <td>63.533521</td>\n",
       "      <td>13.385976</td>\n",
       "      <td>5.549989e+06</td>\n",
       "      <td>3.410725</td>\n",
       "      <td>1.056757</td>\n",
       "      <td>0.0</td>\n",
       "      <td>0.0</td>\n",
       "      <td>0.0</td>\n",
       "      <td>0.386628</td>\n",
       "      <td>0.0</td>\n",
       "      <td>0.0</td>\n",
       "      <td>0.0</td>\n",
       "      <td>0.0</td>\n",
       "      <td>0.0</td>\n",
       "      <td>0.431250</td>\n",
       "      <td>0.0</td>\n",
       "    </tr>\n",
       "    <tr>\n",
       "      <th>min</th>\n",
       "      <td>1.029544e+06</td>\n",
       "      <td>1.000000</td>\n",
       "      <td>2.000000</td>\n",
       "      <td>11.000000</td>\n",
       "      <td>1.710000e+02</td>\n",
       "      <td>1.000000</td>\n",
       "      <td>1.000000</td>\n",
       "      <td>0.0</td>\n",
       "      <td>0.0</td>\n",
       "      <td>0.0</td>\n",
       "      <td>0.000000</td>\n",
       "      <td>0.0</td>\n",
       "      <td>0.0</td>\n",
       "      <td>0.0</td>\n",
       "      <td>0.0</td>\n",
       "      <td>0.0</td>\n",
       "      <td>0.000000</td>\n",
       "      <td>3.0</td>\n",
       "    </tr>\n",
       "    <tr>\n",
       "      <th>25%</th>\n",
       "      <td>2.233832e+06</td>\n",
       "      <td>28.000000</td>\n",
       "      <td>45.000000</td>\n",
       "      <td>72.500000</td>\n",
       "      <td>7.649680e+05</td>\n",
       "      <td>4.000000</td>\n",
       "      <td>2.000000</td>\n",
       "      <td>0.0</td>\n",
       "      <td>0.0</td>\n",
       "      <td>0.0</td>\n",
       "      <td>0.000000</td>\n",
       "      <td>0.0</td>\n",
       "      <td>0.0</td>\n",
       "      <td>0.0</td>\n",
       "      <td>0.0</td>\n",
       "      <td>0.0</td>\n",
       "      <td>0.000000</td>\n",
       "      <td>3.0</td>\n",
       "    </tr>\n",
       "    <tr>\n",
       "      <th>50%</th>\n",
       "      <td>1.371186e+07</td>\n",
       "      <td>40.000000</td>\n",
       "      <td>99.000000</td>\n",
       "      <td>78.000000</td>\n",
       "      <td>1.481548e+06</td>\n",
       "      <td>6.000000</td>\n",
       "      <td>2.000000</td>\n",
       "      <td>0.0</td>\n",
       "      <td>0.0</td>\n",
       "      <td>0.0</td>\n",
       "      <td>0.000000</td>\n",
       "      <td>0.0</td>\n",
       "      <td>0.0</td>\n",
       "      <td>0.0</td>\n",
       "      <td>0.0</td>\n",
       "      <td>0.0</td>\n",
       "      <td>0.000000</td>\n",
       "      <td>3.0</td>\n",
       "    </tr>\n",
       "    <tr>\n",
       "      <th>75%</th>\n",
       "      <td>4.246336e+07</td>\n",
       "      <td>60.500000</td>\n",
       "      <td>160.500000</td>\n",
       "      <td>86.000000</td>\n",
       "      <td>2.673090e+06</td>\n",
       "      <td>9.000000</td>\n",
       "      <td>3.000000</td>\n",
       "      <td>0.0</td>\n",
       "      <td>0.0</td>\n",
       "      <td>0.0</td>\n",
       "      <td>0.000000</td>\n",
       "      <td>0.0</td>\n",
       "      <td>0.0</td>\n",
       "      <td>0.0</td>\n",
       "      <td>0.0</td>\n",
       "      <td>0.0</td>\n",
       "      <td>0.000000</td>\n",
       "      <td>3.0</td>\n",
       "    </tr>\n",
       "    <tr>\n",
       "      <th>max</th>\n",
       "      <td>2.597745e+08</td>\n",
       "      <td>98.000000</td>\n",
       "      <td>200.000000</td>\n",
       "      <td>95.000000</td>\n",
       "      <td>1.857678e+07</td>\n",
       "      <td>12.000000</td>\n",
       "      <td>4.000000</td>\n",
       "      <td>0.0</td>\n",
       "      <td>0.0</td>\n",
       "      <td>0.0</td>\n",
       "      <td>1.000000</td>\n",
       "      <td>0.0</td>\n",
       "      <td>0.0</td>\n",
       "      <td>0.0</td>\n",
       "      <td>0.0</td>\n",
       "      <td>0.0</td>\n",
       "      <td>1.000000</td>\n",
       "      <td>3.0</td>\n",
       "    </tr>\n",
       "  </tbody>\n",
       "</table>\n",
       "</div>"
      ],
      "text/plain": [
       "            streams  bb_hot_100_peak  sp_top_200_peak  artist_popularity  \\\n",
       "count  1.270000e+02       127.000000       127.000000         127.000000   \n",
       "mean   3.441801e+07        45.566929       102.086614          76.881890   \n",
       "std    5.025488e+07        24.676507        63.533521          13.385976   \n",
       "min    1.029544e+06         1.000000         2.000000          11.000000   \n",
       "25%    2.233832e+06        28.000000        45.000000          72.500000   \n",
       "50%    1.371186e+07        40.000000        99.000000          78.000000   \n",
       "75%    4.246336e+07        60.500000       160.500000          86.000000   \n",
       "max    2.597745e+08        98.000000       200.000000          95.000000   \n",
       "\n",
       "       artist_followers  month_released  season_released    hip  hip hop  \\\n",
       "count      1.270000e+02      127.000000       127.000000  127.0    127.0   \n",
       "mean       3.759192e+06        6.322835         2.409449    0.0      0.0   \n",
       "std        5.549989e+06        3.410725         1.056757    0.0      0.0   \n",
       "min        1.710000e+02        1.000000         1.000000    0.0      0.0   \n",
       "25%        7.649680e+05        4.000000         2.000000    0.0      0.0   \n",
       "50%        1.481548e+06        6.000000         2.000000    0.0      0.0   \n",
       "75%        2.673090e+06        9.000000         3.000000    0.0      0.0   \n",
       "max        1.857678e+07       12.000000         4.000000    0.0      0.0   \n",
       "\n",
       "         hop       music    pop  pop pop  pop rap    rap  rap rap        trap  \\\n",
       "count  127.0  127.000000  127.0    127.0    127.0  127.0    127.0  127.000000   \n",
       "mean     0.0    0.181102    0.0      0.0      0.0    0.0      0.0    0.244094   \n",
       "std      0.0    0.386628    0.0      0.0      0.0    0.0      0.0    0.431250   \n",
       "min      0.0    0.000000    0.0      0.0      0.0    0.0      0.0    0.000000   \n",
       "25%      0.0    0.000000    0.0      0.0      0.0    0.0      0.0    0.000000   \n",
       "50%      0.0    0.000000    0.0      0.0      0.0    0.0      0.0    0.000000   \n",
       "75%      0.0    0.000000    0.0      0.0      0.0    0.0      0.0    0.000000   \n",
       "max      0.0    1.000000    0.0      0.0      0.0    0.0      0.0    1.000000   \n",
       "\n",
       "       genre_cat  \n",
       "count      127.0  \n",
       "mean         3.0  \n",
       "std          0.0  \n",
       "min          3.0  \n",
       "25%          3.0  \n",
       "50%          3.0  \n",
       "75%          3.0  \n",
       "max          3.0  "
      ]
     },
     "execution_count": 18,
     "metadata": {},
     "output_type": "execute_result"
    }
   ],
   "source": [
    "combined[combined['genre_cat'] == 3].describe()"
   ]
  },
  {
   "cell_type": "code",
   "execution_count": 19,
   "metadata": {},
   "outputs": [
    {
     "data": {
      "image/png": "[encoded data removed]",
      "text/plain": [
       "<Figure size 1008x504 with 1 Axes>"
      ]
     },
     "metadata": {
      "needs_background": "light"
     },
     "output_type": "display_data"
    }
   ],
   "source": [
    "plt.figure(figsize=(14, 7))\n",
    "plt.hist(combined[combined['genre_cat'] == 3]['artist_popularity'])\n",
    "plt.xticks([0, 10, 20, 30, 40, 50, 60, 70, 80, 100, 110, 120], ['', '', 20, '', 40, '', 60, '', 80, '', 100, '', ''])\n",
    "plt.axvline(combined[combined['genre_cat'] == 3]['artist_popularity'].mean(), \n",
    "            color='k', linestyle='dashed', linewidth=1)\n",
    "plt.title('Non-Pop/Hip-hop/Rap Artist Popularity', size=20)\n",
    "plt.xlabel('Artist Popularity', size=16)\n",
    "plt.ylabel('Number of Songs', size=16);"
   ]
  },
  {
   "cell_type": "code",
   "execution_count": 20,
   "metadata": {},
   "outputs": [
    {
     "data": {
      "text/html": [
       "<div>\n",
       "<style scoped>\n",
       "    .dataframe tbody tr th:only-of-type {\n",
       "        vertical-align: middle;\n",
       "    }\n",
       "\n",
       "    .dataframe tbody tr th {\n",
       "        vertical-align: top;\n",
       "    }\n",
       "\n",
       "    .dataframe thead th {\n",
       "        text-align: right;\n",
       "    }\n",
       "</style>\n",
       "<table border=\"1\" class=\"dataframe\">\n",
       "  <thead>\n",
       "    <tr style=\"text-align: right;\">\n",
       "      <th></th>\n",
       "      <th>streams</th>\n",
       "      <th>bb_hot_100_peak</th>\n",
       "      <th>sp_top_200_peak</th>\n",
       "      <th>artist_popularity</th>\n",
       "      <th>artist_followers</th>\n",
       "      <th>month_released</th>\n",
       "      <th>season_released</th>\n",
       "      <th>hip</th>\n",
       "      <th>hip hop</th>\n",
       "      <th>hop</th>\n",
       "      <th>music</th>\n",
       "      <th>pop</th>\n",
       "      <th>pop pop</th>\n",
       "      <th>pop rap</th>\n",
       "      <th>rap</th>\n",
       "      <th>rap rap</th>\n",
       "      <th>trap</th>\n",
       "      <th>genre_cat</th>\n",
       "    </tr>\n",
       "  </thead>\n",
       "  <tbody>\n",
       "    <tr>\n",
       "      <th>count</th>\n",
       "      <td>6.040000e+02</td>\n",
       "      <td>604.000000</td>\n",
       "      <td>604.000000</td>\n",
       "      <td>604.000000</td>\n",
       "      <td>6.040000e+02</td>\n",
       "      <td>604.000000</td>\n",
       "      <td>604.000000</td>\n",
       "      <td>604.000000</td>\n",
       "      <td>604.000000</td>\n",
       "      <td>604.000000</td>\n",
       "      <td>604.000000</td>\n",
       "      <td>604.000000</td>\n",
       "      <td>604.000000</td>\n",
       "      <td>604.000000</td>\n",
       "      <td>604.000000</td>\n",
       "      <td>604.000000</td>\n",
       "      <td>604.000000</td>\n",
       "      <td>604.0</td>\n",
       "    </tr>\n",
       "    <tr>\n",
       "      <th>mean</th>\n",
       "      <td>4.675791e+07</td>\n",
       "      <td>47.201987</td>\n",
       "      <td>52.269868</td>\n",
       "      <td>86.644040</td>\n",
       "      <td>8.100478e+06</td>\n",
       "      <td>6.346026</td>\n",
       "      <td>2.403974</td>\n",
       "      <td>1.450331</td>\n",
       "      <td>1.418874</td>\n",
       "      <td>1.418874</td>\n",
       "      <td>0.503311</td>\n",
       "      <td>1.557947</td>\n",
       "      <td>0.504967</td>\n",
       "      <td>0.842715</td>\n",
       "      <td>1.918874</td>\n",
       "      <td>0.711921</td>\n",
       "      <td>0.539735</td>\n",
       "      <td>0.0</td>\n",
       "    </tr>\n",
       "    <tr>\n",
       "      <th>std</th>\n",
       "      <td>7.601443e+07</td>\n",
       "      <td>27.428223</td>\n",
       "      <td>51.387950</td>\n",
       "      <td>7.108548</td>\n",
       "      <td>9.712678e+06</td>\n",
       "      <td>3.424301</td>\n",
       "      <td>1.111847</td>\n",
       "      <td>1.125249</td>\n",
       "      <td>1.151122</td>\n",
       "      <td>1.151122</td>\n",
       "      <td>0.500403</td>\n",
       "      <td>1.008235</td>\n",
       "      <td>0.568646</td>\n",
       "      <td>0.403258</td>\n",
       "      <td>0.765145</td>\n",
       "      <td>0.453244</td>\n",
       "      <td>0.558437</td>\n",
       "      <td>0.0</td>\n",
       "    </tr>\n",
       "    <tr>\n",
       "      <th>min</th>\n",
       "      <td>9.857860e+05</td>\n",
       "      <td>1.000000</td>\n",
       "      <td>1.000000</td>\n",
       "      <td>64.000000</td>\n",
       "      <td>3.426400e+04</td>\n",
       "      <td>1.000000</td>\n",
       "      <td>1.000000</td>\n",
       "      <td>0.000000</td>\n",
       "      <td>0.000000</td>\n",
       "      <td>0.000000</td>\n",
       "      <td>0.000000</td>\n",
       "      <td>0.000000</td>\n",
       "      <td>0.000000</td>\n",
       "      <td>0.000000</td>\n",
       "      <td>0.000000</td>\n",
       "      <td>0.000000</td>\n",
       "      <td>0.000000</td>\n",
       "      <td>0.0</td>\n",
       "    </tr>\n",
       "    <tr>\n",
       "      <th>25%</th>\n",
       "      <td>5.495411e+06</td>\n",
       "      <td>27.000000</td>\n",
       "      <td>12.000000</td>\n",
       "      <td>84.000000</td>\n",
       "      <td>2.533874e+06</td>\n",
       "      <td>3.000000</td>\n",
       "      <td>1.000000</td>\n",
       "      <td>0.000000</td>\n",
       "      <td>0.000000</td>\n",
       "      <td>0.000000</td>\n",
       "      <td>0.000000</td>\n",
       "      <td>1.000000</td>\n",
       "      <td>0.000000</td>\n",
       "      <td>1.000000</td>\n",
       "      <td>1.000000</td>\n",
       "      <td>0.000000</td>\n",
       "      <td>0.000000</td>\n",
       "      <td>0.0</td>\n",
       "    </tr>\n",
       "    <tr>\n",
       "      <th>50%</th>\n",
       "      <td>1.694145e+07</td>\n",
       "      <td>44.000000</td>\n",
       "      <td>33.000000</td>\n",
       "      <td>87.000000</td>\n",
       "      <td>4.485183e+06</td>\n",
       "      <td>6.000000</td>\n",
       "      <td>2.000000</td>\n",
       "      <td>2.000000</td>\n",
       "      <td>2.000000</td>\n",
       "      <td>2.000000</td>\n",
       "      <td>1.000000</td>\n",
       "      <td>2.000000</td>\n",
       "      <td>0.000000</td>\n",
       "      <td>1.000000</td>\n",
       "      <td>2.000000</td>\n",
       "      <td>1.000000</td>\n",
       "      <td>1.000000</td>\n",
       "      <td>0.0</td>\n",
       "    </tr>\n",
       "    <tr>\n",
       "      <th>75%</th>\n",
       "      <td>4.972834e+07</td>\n",
       "      <td>70.000000</td>\n",
       "      <td>79.000000</td>\n",
       "      <td>91.000000</td>\n",
       "      <td>8.747513e+06</td>\n",
       "      <td>9.000000</td>\n",
       "      <td>3.000000</td>\n",
       "      <td>2.000000</td>\n",
       "      <td>2.000000</td>\n",
       "      <td>2.000000</td>\n",
       "      <td>1.000000</td>\n",
       "      <td>2.000000</td>\n",
       "      <td>1.000000</td>\n",
       "      <td>1.000000</td>\n",
       "      <td>2.000000</td>\n",
       "      <td>1.000000</td>\n",
       "      <td>1.000000</td>\n",
       "      <td>0.0</td>\n",
       "    </tr>\n",
       "    <tr>\n",
       "      <th>max</th>\n",
       "      <td>5.072172e+08</td>\n",
       "      <td>100.000000</td>\n",
       "      <td>200.000000</td>\n",
       "      <td>97.000000</td>\n",
       "      <td>3.657218e+07</td>\n",
       "      <td>12.000000</td>\n",
       "      <td>4.000000</td>\n",
       "      <td>4.000000</td>\n",
       "      <td>4.000000</td>\n",
       "      <td>4.000000</td>\n",
       "      <td>1.000000</td>\n",
       "      <td>6.000000</td>\n",
       "      <td>2.000000</td>\n",
       "      <td>2.000000</td>\n",
       "      <td>4.000000</td>\n",
       "      <td>1.000000</td>\n",
       "      <td>2.000000</td>\n",
       "      <td>0.0</td>\n",
       "    </tr>\n",
       "  </tbody>\n",
       "</table>\n",
       "</div>"
      ],
      "text/plain": [
       "            streams  bb_hot_100_peak  sp_top_200_peak  artist_popularity  \\\n",
       "count  6.040000e+02       604.000000       604.000000         604.000000   \n",
       "mean   4.675791e+07        47.201987        52.269868          86.644040   \n",
       "std    7.601443e+07        27.428223        51.387950           7.108548   \n",
       "min    9.857860e+05         1.000000         1.000000          64.000000   \n",
       "25%    5.495411e+06        27.000000        12.000000          84.000000   \n",
       "50%    1.694145e+07        44.000000        33.000000          87.000000   \n",
       "75%    4.972834e+07        70.000000        79.000000          91.000000   \n",
       "max    5.072172e+08       100.000000       200.000000          97.000000   \n",
       "\n",
       "       artist_followers  month_released  season_released         hip  \\\n",
       "count      6.040000e+02      604.000000       604.000000  604.000000   \n",
       "mean       8.100478e+06        6.346026         2.403974    1.450331   \n",
       "std        9.712678e+06        3.424301         1.111847    1.125249   \n",
       "min        3.426400e+04        1.000000         1.000000    0.000000   \n",
       "25%        2.533874e+06        3.000000         1.000000    0.000000   \n",
       "50%        4.485183e+06        6.000000         2.000000    2.000000   \n",
       "75%        8.747513e+06        9.000000         3.000000    2.000000   \n",
       "max        3.657218e+07       12.000000         4.000000    4.000000   \n",
       "\n",
       "          hip hop         hop       music         pop     pop pop     pop rap  \\\n",
       "count  604.000000  604.000000  604.000000  604.000000  604.000000  604.000000   \n",
       "mean     1.418874    1.418874    0.503311    1.557947    0.504967    0.842715   \n",
       "std      1.151122    1.151122    0.500403    1.008235    0.568646    0.403258   \n",
       "min      0.000000    0.000000    0.000000    0.000000    0.000000    0.000000   \n",
       "25%      0.000000    0.000000    0.000000    1.000000    0.000000    1.000000   \n",
       "50%      2.000000    2.000000    1.000000    2.000000    0.000000    1.000000   \n",
       "75%      2.000000    2.000000    1.000000    2.000000    1.000000    1.000000   \n",
       "max      4.000000    4.000000    1.000000    6.000000    2.000000    2.000000   \n",
       "\n",
       "              rap     rap rap        trap  genre_cat  \n",
       "count  604.000000  604.000000  604.000000      604.0  \n",
       "mean     1.918874    0.711921    0.539735        0.0  \n",
       "std      0.765145    0.453244    0.558437        0.0  \n",
       "min      0.000000    0.000000    0.000000        0.0  \n",
       "25%      1.000000    0.000000    0.000000        0.0  \n",
       "50%      2.000000    1.000000    1.000000        0.0  \n",
       "75%      2.000000    1.000000    1.000000        0.0  \n",
       "max      4.000000    1.000000    2.000000        0.0  "
      ]
     },
     "execution_count": 20,
     "metadata": {},
     "output_type": "execute_result"
    }
   ],
   "source": [
    "combined[combined['genre_cat'] == 0].describe()"
   ]
  },
  {
   "cell_type": "code",
   "execution_count": 21,
   "metadata": {},
   "outputs": [
    {
     "data": {
      "image/png": "[encoded data removed]",
      "text/plain": [
       "<Figure size 1008x504 with 1 Axes>"
      ]
     },
     "metadata": {
      "needs_background": "light"
     },
     "output_type": "display_data"
    }
   ],
   "source": [
    "plt.figure(figsize=(14,7))\n",
    "plt.hist(combined[combined['genre_cat'] == 0]['artist_popularity'])\n",
    "plt.xticks([0, 10, 20, 30, 40, 50, 60, 70, 80, 100, 110, 120], ['', '', 20, '', 40, '', 60, '', 80, '', 100, '', ''])\n",
    "plt.axvline(combined[combined['genre_cat'] == 1]['artist_popularity'].mean(), \n",
    "            color='k', linestyle='dashed', linewidth=1)\n",
    "plt.title('Pop Rap Artist Popularity', size=20)\n",
    "plt.xlabel('Artist Popularity', size=16)\n",
    "plt.ylabel('Number of Songs', size=16);"
   ]
  },
  {
   "cell_type": "markdown",
   "metadata": {},
   "source": [
    "# Modeling\n",
    "\n",
    "The random forest model was trained on 70% of the above data and the predicted value, release season, was stratified in the train and test columns.\n",
    "<br>\n",
    "Baseline accuracy for the majority class model is 30%.\n",
    "\n",
    "The data was then normalized prior to training the model as the scales on different features are significantly different."
   ]
  },
  {
   "cell_type": "code",
   "execution_count": 22,
   "metadata": {},
   "outputs": [
    {
     "data": {
      "text/plain": [
       "Index(['track_name', 'artist_name', 'released_on', 'streams',\n",
       "       'bb_hot_100_peak', 'sp_top_200_peak', 'genres', 'artist_popularity',\n",
       "       'artist_followers', 'month_released', 'season_released', 'hip',\n",
       "       'hip hop', 'hop', 'music', 'pop', 'pop pop', 'pop rap', 'rap',\n",
       "       'rap rap', 'trap', 'genre_cat'],\n",
       "      dtype='object')"
      ]
     },
     "execution_count": 22,
     "metadata": {},
     "output_type": "execute_result"
    }
   ],
   "source": [
    "combined.columns"
   ]
  },
  {
   "cell_type": "code",
   "execution_count": 23,
   "metadata": {},
   "outputs": [],
   "source": [
    "features = ['streams', 'bb_hot_100_peak', 'sp_top_200_peak', 'artist_popularity', 'artist_followers', 'genre_cat']\n",
    "X= combined[features]\n",
    "y = combined['season_released']"
   ]
  },
  {
   "cell_type": "code",
   "execution_count": 24,
   "metadata": {},
   "outputs": [
    {
     "data": {
      "text/plain": [
       "2    0.312701\n",
       "4    0.275723\n",
       "1    0.243569\n",
       "3    0.168006\n",
       "Name: season_released, dtype: float64"
      ]
     },
     "execution_count": 24,
     "metadata": {},
     "output_type": "execute_result"
    }
   ],
   "source": [
    "y.value_counts(normalize=True)"
   ]
  },
  {
   "cell_type": "code",
   "execution_count": 25,
   "metadata": {},
   "outputs": [],
   "source": [
    "X_train, X_test, y_train, y_test = train_test_split(X, y, test_size=.3, random_state=42, stratify = y)"
   ]
  },
  {
   "cell_type": "code",
   "execution_count": 26,
   "metadata": {
    "scrolled": true
   },
   "outputs": [
    {
     "name": "stderr",
     "output_type": "stream",
     "text": [
      "/anaconda3/lib/python3.7/site-packages/sklearn/preprocessing/data.py:625: DataConversionWarning: Data with input dtype int64 were all converted to float64 by StandardScaler.\n",
      "  return self.partial_fit(X, y)\n",
      "/anaconda3/lib/python3.7/site-packages/ipykernel_launcher.py:5: DataConversionWarning: Data with input dtype int64 were all converted to float64 by StandardScaler.\n",
      "  \"\"\"\n",
      "/anaconda3/lib/python3.7/site-packages/ipykernel_launcher.py:6: DataConversionWarning: Data with input dtype int64 were all converted to float64 by StandardScaler.\n",
      "  \n"
     ]
    }
   ],
   "source": [
    "ss = StandardScaler()\n",
    "\n",
    "ss.fit(X_train)\n",
    "\n",
    "Xs_train = ss.transform(X_train)\n",
    "Xs_test = ss.transform(X_test)"
   ]
  },
  {
   "cell_type": "markdown",
   "metadata": {},
   "source": [
    "Based on the model and limitations in the data, I decided to run a randomized cross validation to pinpoint some potential hyperparamters in the model."
   ]
  },
  {
   "cell_type": "code",
   "execution_count": 27,
   "metadata": {},
   "outputs": [
    {
     "name": "stdout",
     "output_type": "stream",
     "text": [
      "{'bootstrap': [True, False],\n",
      " 'max_depth': [10, 22, 35, 48, 61, 74, 87, 100, None],\n",
      " 'max_features': ['auto', 'sqrt'],\n",
      " 'min_samples_leaf': [1, 2, 4],\n",
      " 'min_samples_split': [2, 5, 10],\n",
      " 'n_estimators': [500, 666, 833, 1000, 1166, 1333, 1500, 1666, 1833, 2000]}\n"
     ]
    }
   ],
   "source": [
    "# https://towardsdatascience.com/hyperparameter-tuning-the-random-forest-in-python-using-scikit-learn-28d2aa77dd74\n",
    "# https://stackoverflow.com/questions/38555650/try-multiple-estimator-in-one-grid-search\n",
    "\n",
    "\n",
    "# Number of trees in random forest\n",
    "n_estimators = [int(x) for x in np.linspace(start = 500, stop = 2000, num = 10)]\n",
    "# Number of features to consider at every split\n",
    "max_features = ['auto', 'sqrt']\n",
    "# Maximum number of levels in tree\n",
    "max_depth = [int(x) for x in np.linspace(10, 100, num = 8)]\n",
    "max_depth.append(None)\n",
    "# Minimum number of samples required to split a node\n",
    "min_samples_split = [2, 5, 10]\n",
    "# Minimum number of samples required at each leaf node\n",
    "min_samples_leaf = [1, 2, 4]\n",
    "# Method of selecting samples for training each tree\n",
    "bootstrap = [True, False]\n",
    "# Create the random grid\n",
    "random_grid = {'n_estimators': n_estimators,\n",
    "               'max_features': max_features,\n",
    "               'max_depth': max_depth,\n",
    "               'min_samples_split': min_samples_split,\n",
    "               'min_samples_leaf': min_samples_leaf,\n",
    "               'bootstrap': bootstrap}\n",
    "pprint(random_grid)"
   ]
  },
  {
   "cell_type": "code",
   "execution_count": 28,
   "metadata": {},
   "outputs": [
    {
     "name": "stdout",
     "output_type": "stream",
     "text": [
      "Fitting 3 folds for each of 100 candidates, totalling 300 fits\n"
     ]
    },
    {
     "name": "stderr",
     "output_type": "stream",
     "text": [
      "[Parallel(n_jobs=-2)]: Using backend LokyBackend with 3 concurrent workers.\n",
      "[Parallel(n_jobs=-2)]: Done  26 tasks      | elapsed:   18.5s\n",
      "[Parallel(n_jobs=-2)]: Done 122 tasks      | elapsed:  1.2min\n",
      "[Parallel(n_jobs=-2)]: Done 282 tasks      | elapsed:  3.1min\n",
      "[Parallel(n_jobs=-2)]: Done 300 out of 300 | elapsed:  3.3min finished\n",
      "/anaconda3/lib/python3.7/site-packages/sklearn/model_selection/_search.py:841: DeprecationWarning: The default of the `iid` parameter will change from True to False in version 0.22 and will be removed in 0.24. This will change numeric results when test-set sizes are unequal.\n",
      "  DeprecationWarning)\n"
     ]
    },
    {
     "data": {
      "text/plain": [
       "RandomizedSearchCV(cv=3, error_score='raise-deprecating',\n",
       "          estimator=RandomForestClassifier(bootstrap=True, class_weight=None, criterion='gini',\n",
       "            max_depth=None, max_features='auto', max_leaf_nodes=None,\n",
       "            min_impurity_decrease=0.0, min_impurity_split=None,\n",
       "            min_samples_leaf=1, min_samples_split=2,\n",
       "            min_weight_fraction_leaf=0.0, n_estimators='warn', n_jobs=None,\n",
       "            oob_score=False, random_state=None, verbose=0,\n",
       "            warm_start=False),\n",
       "          fit_params=None, iid='warn', n_iter=100, n_jobs=-2,\n",
       "          param_distributions={'n_estimators': [500, 666, 833, 1000, 1166, 1333, 1500, 1666, 1833, 2000], 'max_features': ['auto', 'sqrt'], 'max_depth': [10, 22, 35, 48, 61, 74, 87, 100, None], 'min_samples_split': [2, 5, 10], 'min_samples_leaf': [1, 2, 4], 'bootstrap': [True, False]},\n",
       "          pre_dispatch='2*n_jobs', random_state=42, refit=True,\n",
       "          return_train_score='warn', scoring=None, verbose=3)"
      ]
     },
     "execution_count": 28,
     "metadata": {},
     "output_type": "execute_result"
    }
   ],
   "source": [
    "# Use the random grid to search for best hyperparameters\n",
    "# First create the base model to tune\n",
    "rf = RandomForestClassifier()\n",
    "# Random search of parameters, using 3 fold cross validation, \n",
    "# search across 100 different combinations, and use all available cores\n",
    "rf_random = RandomizedSearchCV(estimator = rf, param_distributions = random_grid,\n",
    "                               n_iter = 100, cv = 3, verbose=3, random_state=42, n_jobs = -2)\n",
    "# Fit the random search model\n",
    "rf_random.fit(Xs_train, y_train)"
   ]
  },
  {
   "cell_type": "code",
   "execution_count": 29,
   "metadata": {},
   "outputs": [
    {
     "data": {
      "text/plain": [
       "{'n_estimators': 1666,\n",
       " 'min_samples_split': 5,\n",
       " 'min_samples_leaf': 1,\n",
       " 'max_features': 'sqrt',\n",
       " 'max_depth': 100,\n",
       " 'bootstrap': False}"
      ]
     },
     "execution_count": 29,
     "metadata": {},
     "output_type": "execute_result"
    }
   ],
   "source": [
    "rf_random.best_params_"
   ]
  },
  {
   "cell_type": "code",
   "execution_count": 30,
   "metadata": {},
   "outputs": [
    {
     "name": "stdout",
     "output_type": "stream",
     "text": [
      "1.0\n",
      "0.5267379679144385\n"
     ]
    }
   ],
   "source": [
    "print(rf_random.score(Xs_train, y_train))\n",
    "print(rf_random.score(Xs_test, y_test))"
   ]
  },
  {
   "cell_type": "code",
   "execution_count": 31,
   "metadata": {},
   "outputs": [
    {
     "data": {
      "text/plain": [
       "0.5114942528735632"
      ]
     },
     "execution_count": 31,
     "metadata": {},
     "output_type": "execute_result"
    }
   ],
   "source": [
    "rf_random.best_score_"
   ]
  },
  {
   "cell_type": "markdown",
   "metadata": {},
   "source": [
    "The model is severely overfit and needs some additional tuning. Using the parameters from the randomized CV, I target these areas to better tune the model."
   ]
  },
  {
   "cell_type": "code",
   "execution_count": 35,
   "metadata": {},
   "outputs": [],
   "source": [
    "params = {'n_estimators': [1500, 1600, 1650, 1700, 1750],\n",
    " 'min_samples_split': [2, 5, 7],\n",
    " 'min_samples_leaf': [1, 2, 3],\n",
    " 'max_features': ['auto'],\n",
    " 'max_depth': [80, 100, None],\n",
    " 'bootstrap': [False]}"
   ]
  },
  {
   "cell_type": "code",
   "execution_count": 36,
   "metadata": {},
   "outputs": [],
   "source": [
    "rf = RandomForestClassifier(random_state=42)"
   ]
  },
  {
   "cell_type": "code",
   "execution_count": 37,
   "metadata": {},
   "outputs": [],
   "source": [
    "gs = GridSearchCV(rf, params, n_jobs=-2, cv = 3, verbose=2)"
   ]
  },
  {
   "cell_type": "code",
   "execution_count": 38,
   "metadata": {},
   "outputs": [
    {
     "name": "stdout",
     "output_type": "stream",
     "text": [
      "Fitting 3 folds for each of 135 candidates, totalling 405 fits\n"
     ]
    },
    {
     "name": "stderr",
     "output_type": "stream",
     "text": [
      "[Parallel(n_jobs=-2)]: Using backend LokyBackend with 3 concurrent workers.\n",
      "[Parallel(n_jobs=-2)]: Done  35 tasks      | elapsed:   37.7s\n",
      "[Parallel(n_jobs=-2)]: Done 156 tasks      | elapsed:  2.6min\n",
      "[Parallel(n_jobs=-2)]: Done 359 tasks      | elapsed:  6.0min\n",
      "[Parallel(n_jobs=-2)]: Done 405 out of 405 | elapsed:  6.7min finished\n",
      "/anaconda3/lib/python3.7/site-packages/sklearn/model_selection/_search.py:841: DeprecationWarning: The default of the `iid` parameter will change from True to False in version 0.22 and will be removed in 0.24. This will change numeric results when test-set sizes are unequal.\n",
      "  DeprecationWarning)\n"
     ]
    },
    {
     "data": {
      "text/plain": [
       "GridSearchCV(cv=3, error_score='raise-deprecating',\n",
       "       estimator=RandomForestClassifier(bootstrap=True, class_weight=None, criterion='gini',\n",
       "            max_depth=None, max_features='auto', max_leaf_nodes=None,\n",
       "            min_impurity_decrease=0.0, min_impurity_split=None,\n",
       "            min_samples_leaf=1, min_samples_split=2,\n",
       "            min_weight_fraction_leaf=0.0, n_estimators='warn', n_jobs=None,\n",
       "            oob_score=False, random_state=42, verbose=0, warm_start=False),\n",
       "       fit_params=None, iid='warn', n_jobs=-2,\n",
       "       param_grid={'n_estimators': [1500, 1600, 1650, 1700, 1750], 'min_samples_split': [2, 5, 7], 'min_samples_leaf': [1, 2, 3], 'max_features': ['auto'], 'max_depth': [80, 100, None], 'bootstrap': [False]},\n",
       "       pre_dispatch='2*n_jobs', refit=True, return_train_score='warn',\n",
       "       scoring=None, verbose=2)"
      ]
     },
     "execution_count": 38,
     "metadata": {},
     "output_type": "execute_result"
    }
   ],
   "source": [
    "gs.fit(Xs_train, y_train)"
   ]
  },
  {
   "cell_type": "code",
   "execution_count": 39,
   "metadata": {},
   "outputs": [
    {
     "data": {
      "text/plain": [
       "1.0"
      ]
     },
     "execution_count": 39,
     "metadata": {},
     "output_type": "execute_result"
    }
   ],
   "source": [
    "gs.score(Xs_train, y_train)"
   ]
  },
  {
   "cell_type": "code",
   "execution_count": 40,
   "metadata": {},
   "outputs": [
    {
     "data": {
      "text/plain": [
       "0.5267379679144385"
      ]
     },
     "execution_count": 40,
     "metadata": {},
     "output_type": "execute_result"
    }
   ],
   "source": [
    "gs.score(Xs_test, y_test)"
   ]
  },
  {
   "cell_type": "code",
   "execution_count": 41,
   "metadata": {},
   "outputs": [
    {
     "data": {
      "text/plain": [
       "{'bootstrap': False,\n",
       " 'max_depth': 80,\n",
       " 'max_features': 'auto',\n",
       " 'min_samples_leaf': 1,\n",
       " 'min_samples_split': 2,\n",
       " 'n_estimators': 1600}"
      ]
     },
     "execution_count": 41,
     "metadata": {},
     "output_type": "execute_result"
    }
   ],
   "source": [
    "gs.best_params_"
   ]
  },
  {
   "cell_type": "code",
   "execution_count": 42,
   "metadata": {},
   "outputs": [
    {
     "data": {
      "text/plain": [
       "0.5080459770114942"
      ]
     },
     "execution_count": 42,
     "metadata": {},
     "output_type": "execute_result"
    }
   ],
   "source": [
    "gs.best_score_"
   ]
  },
  {
   "cell_type": "code",
   "execution_count": 59,
   "metadata": {},
   "outputs": [],
   "source": [
    "# Running RF with parameters from gridsearch to get feature importances\n",
    "rf = RandomForestClassifier(bootstrap=False, max_depth=80, max_features='auto', min_samples_leaf=1,\n",
    "                            min_samples_split=2, n_estimators=1600, random_state=42)"
   ]
  },
  {
   "cell_type": "code",
   "execution_count": 60,
   "metadata": {},
   "outputs": [
    {
     "data": {
      "text/plain": [
       "RandomForestClassifier(bootstrap=False, class_weight=None, criterion='gini',\n",
       "            max_depth=80, max_features='auto', max_leaf_nodes=None,\n",
       "            min_impurity_decrease=0.0, min_impurity_split=None,\n",
       "            min_samples_leaf=1, min_samples_split=2,\n",
       "            min_weight_fraction_leaf=0.0, n_estimators=1600, n_jobs=None,\n",
       "            oob_score=False, random_state=42, verbose=0, warm_start=False)"
      ]
     },
     "execution_count": 60,
     "metadata": {},
     "output_type": "execute_result"
    }
   ],
   "source": [
    "rf.fit(Xs_train, y_train)"
   ]
  },
  {
   "cell_type": "code",
   "execution_count": 61,
   "metadata": {
    "scrolled": true
   },
   "outputs": [
    {
     "name": "stdout",
     "output_type": "stream",
     "text": [
      "1.0\n",
      "0.5267379679144385\n"
     ]
    }
   ],
   "source": [
    "print(rf.score(Xs_train, y_train))\n",
    "print(rf.score(Xs_test, y_test))"
   ]
  },
  {
   "cell_type": "code",
   "execution_count": 64,
   "metadata": {},
   "outputs": [
    {
     "data": {
      "text/html": [
       "<div>\n",
       "<style scoped>\n",
       "    .dataframe tbody tr th:only-of-type {\n",
       "        vertical-align: middle;\n",
       "    }\n",
       "\n",
       "    .dataframe tbody tr th {\n",
       "        vertical-align: top;\n",
       "    }\n",
       "\n",
       "    .dataframe thead th {\n",
       "        text-align: right;\n",
       "    }\n",
       "</style>\n",
       "<table border=\"1\" class=\"dataframe\">\n",
       "  <thead>\n",
       "    <tr style=\"text-align: right;\">\n",
       "      <th></th>\n",
       "      <th>importance</th>\n",
       "    </tr>\n",
       "  </thead>\n",
       "  <tbody>\n",
       "    <tr>\n",
       "      <th>artist_followers</th>\n",
       "      <td>0.244766</td>\n",
       "    </tr>\n",
       "    <tr>\n",
       "      <th>streams</th>\n",
       "      <td>0.205191</td>\n",
       "    </tr>\n",
       "    <tr>\n",
       "      <th>sp_top_200_peak</th>\n",
       "      <td>0.176046</td>\n",
       "    </tr>\n",
       "    <tr>\n",
       "      <th>artist_popularity</th>\n",
       "      <td>0.171804</td>\n",
       "    </tr>\n",
       "    <tr>\n",
       "      <th>bb_hot_100_peak</th>\n",
       "      <td>0.147451</td>\n",
       "    </tr>\n",
       "    <tr>\n",
       "      <th>genre_cat</th>\n",
       "      <td>0.054742</td>\n",
       "    </tr>\n",
       "  </tbody>\n",
       "</table>\n",
       "</div>"
      ],
      "text/plain": [
       "                   importance\n",
       "artist_followers     0.244766\n",
       "streams              0.205191\n",
       "sp_top_200_peak      0.176046\n",
       "artist_popularity    0.171804\n",
       "bb_hot_100_peak      0.147451\n",
       "genre_cat            0.054742"
      ]
     },
     "execution_count": 64,
     "metadata": {},
     "output_type": "execute_result"
    }
   ],
   "source": [
    "feature_importance = pd.DataFrame(rf.feature_importances_, index = X_train.columns,\n",
    "                                  columns=['importance']).sort_values('importance',\n",
    "                                  ascending=False) \n",
    "\n",
    "feature_importance"
   ]
  },
  {
   "cell_type": "markdown",
   "metadata": {},
   "source": [
    "The model did not fare much better, but made some improvements. Based on two hyperparameter searches, I feel that this is the best performance as possible given the data."
   ]
  },
  {
   "cell_type": "code",
   "execution_count": 43,
   "metadata": {},
   "outputs": [],
   "source": [
    "predictions = gs.predict(Xs_test)"
   ]
  },
  {
   "cell_type": "code",
   "execution_count": 44,
   "metadata": {},
   "outputs": [],
   "source": [
    "def metrics(y_test, y_predict):\n",
    "    print('Accuracy score %s ' % accuracy_score(y_test, y_predict), '\\n')\n",
    "    print('----------------------------------------------------------------')\n",
    "    print(pd.DataFrame(confusion_matrix(y_test, y_predict),\n",
    "                       index=['Actual Q1', 'Actual Q2', 'Actual Q3', 'Actual Q4'],\n",
    "                       columns=['Predicted Q1', 'Predicted Q2', 'Predicted Q3', 'Predicted Q4']), '\\n')\n",
    "    print('-----------------------------------------------------------------')\n",
    "    print(classification_report(y_test, y_predict))\n",
    "    print('-----------------------------------------------------------------')"
   ]
  },
  {
   "cell_type": "code",
   "execution_count": 45,
   "metadata": {},
   "outputs": [
    {
     "name": "stdout",
     "output_type": "stream",
     "text": [
      "Accuracy score 0.5267379679144385  \n",
      "\n",
      "----------------------------------------------------------------\n",
      "           Predicted Q1  Predicted Q2  Predicted Q3  Predicted Q4\n",
      "Actual Q1            47            25             2            17\n",
      "Actual Q2            14            73            15            15\n",
      "Actual Q3            17            13            19            14\n",
      "Actual Q4             9            28             8            58 \n",
      "\n",
      "-----------------------------------------------------------------\n",
      "              precision    recall  f1-score   support\n",
      "\n",
      "           1       0.54      0.52      0.53        91\n",
      "           2       0.53      0.62      0.57       117\n",
      "           3       0.43      0.30      0.36        63\n",
      "           4       0.56      0.56      0.56       103\n",
      "\n",
      "   micro avg       0.53      0.53      0.53       374\n",
      "   macro avg       0.51      0.50      0.50       374\n",
      "weighted avg       0.52      0.53      0.52       374\n",
      "\n",
      "-----------------------------------------------------------------\n"
     ]
    }
   ],
   "source": [
    "metrics(y_test, predictions)"
   ]
  },
  {
   "cell_type": "markdown",
   "metadata": {},
   "source": [
    "## Post Model Analysis\n",
    "\n",
    "Based on the performance of the model, I decided to look into performance and the probabilities of each track and class selection.\n",
    "\n",
    "While the model was overfit, it was still better than the baseline of the majority class. When looking at predictions and probabilities I also noticed that the probability of the correct predictions of the test data was higher, leading me to believe there is a trend that can be uncovered with more (and better data)."
   ]
  },
  {
   "cell_type": "code",
   "execution_count": 46,
   "metadata": {},
   "outputs": [],
   "source": [
    "probabilities = gs.predict_proba(Xs_test)"
   ]
  },
  {
   "cell_type": "code",
   "execution_count": 47,
   "metadata": {},
   "outputs": [],
   "source": [
    "probs = []\n",
    "for i in range(0, len(y_test)):\n",
    "    probs.append(max(probabilities[i]))"
   ]
  },
  {
   "cell_type": "code",
   "execution_count": 48,
   "metadata": {},
   "outputs": [],
   "source": [
    "preds = []\n",
    "for i in range(0, len(y_test)):\n",
    "    preds.append(predictions[i])"
   ]
  },
  {
   "cell_type": "code",
   "execution_count": 49,
   "metadata": {},
   "outputs": [],
   "source": [
    "unseen_results = pd.DataFrame(y_test)"
   ]
  },
  {
   "cell_type": "code",
   "execution_count": 50,
   "metadata": {},
   "outputs": [],
   "source": [
    "unseen_results['Predicted'] = preds"
   ]
  },
  {
   "cell_type": "code",
   "execution_count": 51,
   "metadata": {},
   "outputs": [],
   "source": [
    "unseen_results['Probability'] = probs"
   ]
  },
  {
   "cell_type": "code",
   "execution_count": 52,
   "metadata": {},
   "outputs": [],
   "source": [
    "index_nums = list(unseen_results.index)"
   ]
  },
  {
   "cell_type": "code",
   "execution_count": 53,
   "metadata": {},
   "outputs": [],
   "source": [
    "song_name_test = []\n",
    "for i in range(0, len(index_nums)):\n",
    "    song_name_test.append(combined['track_name'][index_nums[i]])"
   ]
  },
  {
   "cell_type": "code",
   "execution_count": 54,
   "metadata": {},
   "outputs": [],
   "source": [
    "unseen_results['track_name'] = song_name_test"
   ]
  },
  {
   "cell_type": "code",
   "execution_count": 55,
   "metadata": {},
   "outputs": [],
   "source": [
    "unseen_results = unseen_results[['track_name', 'season_released', 'Predicted', 'Probability']]"
   ]
  },
  {
   "cell_type": "code",
   "execution_count": 56,
   "metadata": {},
   "outputs": [
    {
     "data": {
      "text/html": [
       "<div>\n",
       "<style scoped>\n",
       "    .dataframe tbody tr th:only-of-type {\n",
       "        vertical-align: middle;\n",
       "    }\n",
       "\n",
       "    .dataframe tbody tr th {\n",
       "        vertical-align: top;\n",
       "    }\n",
       "\n",
       "    .dataframe thead th {\n",
       "        text-align: right;\n",
       "    }\n",
       "</style>\n",
       "<table border=\"1\" class=\"dataframe\">\n",
       "  <thead>\n",
       "    <tr style=\"text-align: right;\">\n",
       "      <th></th>\n",
       "      <th>track_name</th>\n",
       "      <th>season_released</th>\n",
       "      <th>Predicted</th>\n",
       "      <th>Probability</th>\n",
       "    </tr>\n",
       "  </thead>\n",
       "  <tbody>\n",
       "    <tr>\n",
       "      <th>192</th>\n",
       "      <td>Coolin and Booted</td>\n",
       "      <td>1</td>\n",
       "      <td>4</td>\n",
       "      <td>0.525625</td>\n",
       "    </tr>\n",
       "    <tr>\n",
       "      <th>297</th>\n",
       "      <td>FEFE (feat. Nicki Minaj, Murda Beatz)</td>\n",
       "      <td>4</td>\n",
       "      <td>2</td>\n",
       "      <td>0.420000</td>\n",
       "    </tr>\n",
       "    <tr>\n",
       "      <th>924</th>\n",
       "      <td>Roses (with Juice WRLD feat. Brendon Urie)</td>\n",
       "      <td>4</td>\n",
       "      <td>2</td>\n",
       "      <td>0.500000</td>\n",
       "    </tr>\n",
       "    <tr>\n",
       "      <th>120</th>\n",
       "      <td>Body Like A Back Road</td>\n",
       "      <td>1</td>\n",
       "      <td>1</td>\n",
       "      <td>0.438750</td>\n",
       "    </tr>\n",
       "    <tr>\n",
       "      <th>419</th>\n",
       "      <td>How Far I'll Go - From \"Moana\"</td>\n",
       "      <td>1</td>\n",
       "      <td>1</td>\n",
       "      <td>0.738750</td>\n",
       "    </tr>\n",
       "  </tbody>\n",
       "</table>\n",
       "</div>"
      ],
      "text/plain": [
       "                                     track_name  season_released  Predicted  \\\n",
       "192                           Coolin and Booted                1          4   \n",
       "297       FEFE (feat. Nicki Minaj, Murda Beatz)                4          2   \n",
       "924  Roses (with Juice WRLD feat. Brendon Urie)                4          2   \n",
       "120                       Body Like A Back Road                1          1   \n",
       "419              How Far I'll Go - From \"Moana\"                1          1   \n",
       "\n",
       "     Probability  \n",
       "192     0.525625  \n",
       "297     0.420000  \n",
       "924     0.500000  \n",
       "120     0.438750  \n",
       "419     0.738750  "
      ]
     },
     "execution_count": 56,
     "metadata": {},
     "output_type": "execute_result"
    }
   ],
   "source": [
    "unseen_results.head()"
   ]
  },
  {
   "cell_type": "code",
   "execution_count": 57,
   "metadata": {},
   "outputs": [
    {
     "data": {
      "text/plain": [
       "0.6582233502538071"
      ]
     },
     "execution_count": 57,
     "metadata": {},
     "output_type": "execute_result"
    }
   ],
   "source": [
    "unseen_results[unseen_results['season_released'] == unseen_results['Predicted']]['Probability'].mean()"
   ]
  },
  {
   "cell_type": "code",
   "execution_count": 58,
   "metadata": {},
   "outputs": [
    {
     "data": {
      "text/plain": [
       "0.5351094632768361"
      ]
     },
     "execution_count": 58,
     "metadata": {},
     "output_type": "execute_result"
    }
   ],
   "source": [
    "unseen_results[unseen_results['season_released'] != unseen_results['Predicted']]['Probability'].mean()"
   ]
  }
 ],
 "metadata": {
  "kernelspec": {
   "display_name": "Python 3",
   "language": "python",
   "name": "python3"
  },
  "language_info": {
   "codemirror_mode": {
    "name": "ipython",
    "version": 3
   },
   "file_extension": ".py",
   "mimetype": "text/x-python",
   "name": "python",
   "nbconvert_exporter": "python",
   "pygments_lexer": "ipython3",
   "version": "3.7.1"
  }
 },
 "nbformat": 4,
 "nbformat_minor": 2
}
